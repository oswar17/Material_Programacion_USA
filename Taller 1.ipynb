{
 "cells": [
  {
   "cell_type": "code",
   "execution_count": 87,
   "id": "79ecfceb-ead5-4305-996e-ba92672329c1",
   "metadata": {},
   "outputs": [
    {
     "name": "stdout",
     "output_type": "stream",
     "text": [
      "La probabilidad es: 0.5008\n"
     ]
    }
   ],
   "source": [
    "import random  # Importamos la librería random para generar números aleatorios\n",
    "\n",
    "def simular_vuelo():\n",
    "    \"\"\"\n",
    "    Se define un función que simula un vuelo con 100 asientos y pasajeros que intentan sentarse en su asiento asignado.\n",
    "    \"\"\"\n",
    "    # lista 100 asientos - False = asiento vacio)\n",
    "    asientos = [False] * 100  \n",
    "\n",
    "    # El primer pasajero (0) elige asiento\n",
    "    eleccion = random.randint(0, 99)\n",
    "    asientos[eleccion] = True  # se marca asiento ocupado\n",
    "\n",
    "    # simulacion de abordaje de pasajeros del segundo al 99\n",
    "    for i in range(1, 99):  # pasajero 2 (1) hasta pasajero 99 (98)\n",
    "        if not asientos[i]:  # Si su asiento está libre, lo ocupa\n",
    "            asientos[i] = True\n",
    "        else:\n",
    "            # Si su asiento está ocupado, elige otro asiento aleatorio de los disponibles\n",
    "            disponibles = [j for j in range(100) if not asientos[j]]  #  asientos libres\n",
    "            eleccion = random.choice(disponibles)  # Seleccion asiento libre al azar\n",
    "            asientos[eleccion] = True \n",
    "\n",
    "    # Retorna verdadero si el asiento 100 (99) quedó libre, False si fue ocupado\n",
    "    return not asientos[99]  \n",
    "\n",
    "simulaciones = 10000\n",
    "exitos = sum(simular_vuelo() for _ in range(simulaciones))\n",
    "probabilidad_estimada = exitos / simulaciones\n",
    "print(f\"La probabilidad es: {probabilidad_estimada}\")\n"
   ]
  },
  {
   "cell_type": "code",
   "execution_count": 93,
   "id": "2f7f9559-b4b4-4967-a3c9-e7d89a7afa01",
   "metadata": {},
   "outputs": [
    {
     "name": "stdout",
     "output_type": "stream",
     "text": [
      "Estimación de π con 1000000 puntos: 3.141948\n"
     ]
    }
   ],
   "source": [
    "import random \n",
    "\n",
    "def estimar_pi(n_puntos):\n",
    "    \"\"\" Se define una funcion que estima el valor de π usando el método de Monte Carlo. \"\"\" \n",
    "   \n",
    "    dentro_circulo = 0  # puntos que caen dentro del circulo\n",
    "\n",
    "    for _ in range(n_puntos):  # Generamos n_puntos aleatorios\n",
    "        x = random.uniform(-0.5, 0.5)  # x en el rango [-0.5, 0.5]\n",
    "        y = random.uniform(-0.5, 0.5)  # y en el rango [-0.5, 0.5]\n",
    "\n",
    "        # punto dentro del círculo (x² + y² ≤ r²)\n",
    "        if x**2 + y**2 <= 0.5**2:\n",
    "            dentro_circulo += 1  # Sumamos si el punto está dentro\n",
    "   \n",
    "    pi_estimado = 4 * (dentro_circulo / n_puntos)\n",
    "    return pi_estimado\n",
    "    \n",
    "n_simulaciones = 1000000\n",
    "\n",
    "pi_aproximado = estimar_pi(n_simulaciones)\n",
    "print(f\"Estimación de π con {n_simulaciones} puntos: {pi_aproximado}\")\n"
   ]
  }
 ],
 "metadata": {
  "kernelspec": {
   "display_name": "Python [conda env:base] *",
   "language": "python",
   "name": "conda-base-py"
  },
  "language_info": {
   "codemirror_mode": {
    "name": "ipython",
    "version": 3
   },
   "file_extension": ".py",
   "mimetype": "text/x-python",
   "name": "python",
   "nbconvert_exporter": "python",
   "pygments_lexer": "ipython3",
   "version": "3.12.7"
  }
 },
 "nbformat": 4,
 "nbformat_minor": 5
}
